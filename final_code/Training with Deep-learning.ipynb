{
 "cells": [
  {
   "cell_type": "markdown",
   "metadata": {},
   "source": [
    "### read base library "
   ]
  },
  {
   "cell_type": "code",
   "execution_count": 29,
   "metadata": {},
   "outputs": [],
   "source": [
    "import os\n",
    "import sys\n",
    "sys.path.append('..')\n",
    "\n",
    "import re\n",
    "import pandas as pd\n",
    "import numpy as np\n",
    "import matplotlib.pyplot as plt\n",
    "import json\n",
    "from konlpy.tag import Komoran"
   ]
  },
  {
   "cell_type": "markdown",
   "metadata": {},
   "source": [
    "### read tensorflow library"
   ]
  },
  {
   "cell_type": "code",
   "execution_count": 30,
   "metadata": {},
   "outputs": [],
   "source": [
    "import tensorflow as tf\n",
    "from tensorflow import keras"
   ]
  },
  {
   "cell_type": "code",
   "execution_count": 31,
   "metadata": {},
   "outputs": [],
   "source": [
    "from tensorflow.keras.preprocessing.text import Tokenizer"
   ]
  },
  {
   "cell_type": "code",
   "execution_count": 32,
   "metadata": {},
   "outputs": [],
   "source": [
    "import tensorflow as tf\n",
    "from tensorflow.python.keras.preprocessing.sequence import  pad_sequences\n",
    "from tensorflow.python.keras.preprocessing.text import Tokenizer\n",
    "from tensorflow import keras\n",
    "from tensorflow.keras.preprocessing.text import Tokenizer\n",
    "from tensorflow.keras.preprocessing.sequence import pad_sequences\n",
    "from tensorflow.keras.utils import to_categorical\n",
    "from tensorflow.keras.layers import Dense, Input, Flatten, Dropout,Concatenate,Activation\n",
    "from tensorflow.keras.layers import Conv1D, MaxPooling1D, Embedding\n",
    "from tensorflow.keras.layers import LSTM,GRU\n",
    "from tensorflow.keras.layers import Embedding\n",
    "from tensorflow.keras.models import Model,Sequential\n",
    "from tensorflow.keras.callbacks import EarlyStopping"
   ]
  },
  {
   "cell_type": "markdown",
   "metadata": {},
   "source": [
    "### READ DATA"
   ]
  },
  {
   "cell_type": "code",
   "execution_count": 33,
   "metadata": {},
   "outputs": [],
   "source": [
    "train = pd.read_csv('./data/train.csv',encoding='utf-8')"
   ]
  },
  {
   "cell_type": "code",
   "execution_count": 227,
   "metadata": {},
   "outputs": [
    {
     "data": {
      "text/plain": [
       "1    364796\n",
       "0     90372\n",
       "Name: Judgement, dtype: int64"
      ]
     },
     "execution_count": 227,
     "metadata": {},
     "output_type": "execute_result"
    }
   ],
   "source": [
    "train['Judgement'].value_counts()"
   ]
  },
  {
   "cell_type": "code",
   "execution_count": 34,
   "metadata": {},
   "outputs": [],
   "source": [
    "test =  pd.read_csv('./data/test.csv',encoding='utf-8')"
   ]
  },
  {
   "cell_type": "code",
   "execution_count": 228,
   "metadata": {},
   "outputs": [
    {
     "data": {
      "text/plain": [
       "1    40534\n",
       "0    10041\n",
       "Name: Judgement, dtype: int64"
      ]
     },
     "execution_count": 228,
     "metadata": {},
     "output_type": "execute_result"
    }
   ],
   "source": [
    "test['Judgement'].value_counts()"
   ]
  },
  {
   "cell_type": "code",
   "execution_count": 35,
   "metadata": {},
   "outputs": [],
   "source": [
    "#stop words 지정\n",
    "c_stopwords = pd.read_excel('./stopwords/stopwords.xlsx')\n",
    "my_stopwords = c_stopwords['stopwords'].tolist()\n",
    "stopwords = my_stopwords + ['괜히','또또','사방','려면','다해','왜또','부터','지금','가가','가가호호','힌다','지라','그냥','이나','면서','진짜','정말','이제','때문','신들','안중','통령']"
   ]
  },
  {
   "cell_type": "code",
   "execution_count": 36,
   "metadata": {},
   "outputs": [],
   "source": [
    "non_path = './stopwords/user_dict.txt'\n",
    "komoran = Komoran(userdic = non_path)"
   ]
  },
  {
   "cell_type": "code",
   "execution_count": 37,
   "metadata": {},
   "outputs": [],
   "source": [
    "def get_nouns(corpus,stopwords=stopwords):\n",
    "    nouns_list = list()\n",
    "    for text in corpus:\n",
    "        try : \n",
    "            text = str(text)\n",
    "            text = re.sub('[-=+,#/\\?:^$.@*\\\"※~&%ㆍ!\\\\‘|\\(\\)\\[\\]\\<\\>`\\'…》]', '', text)\n",
    "            text = re.sub(\"[^가-힣A-Za-z]\",\" \", text)\n",
    "            text = re.sub(r\"\\s{2,}\", \" \", text)\n",
    "            nouns = komoran.nouns(text)\n",
    "            nouns = [word for word in nouns if len(word) > 1 and word not in stopwords]\n",
    "            nouns_list.append(nouns)\n",
    "        except : \n",
    "            nouns_list.append('error')\n",
    "    return nouns_list"
   ]
  },
  {
   "cell_type": "code",
   "execution_count": 38,
   "metadata": {},
   "outputs": [],
   "source": [
    "nouns_train  = get_nouns(train['contents'],stopwords=stopwords)"
   ]
  },
  {
   "cell_type": "code",
   "execution_count": 44,
   "metadata": {},
   "outputs": [],
   "source": [
    "nouns_test = get_nouns(test['contents'],stopwords = stopwords)"
   ]
  },
  {
   "cell_type": "code",
   "execution_count": 45,
   "metadata": {},
   "outputs": [],
   "source": [
    "tokenizer = Tokenizer()"
   ]
  },
  {
   "cell_type": "code",
   "execution_count": 46,
   "metadata": {},
   "outputs": [],
   "source": [
    "tokenizer.fit_on_texts(nouns_train+nouns_test)"
   ]
  },
  {
   "cell_type": "code",
   "execution_count": 47,
   "metadata": {},
   "outputs": [],
   "source": [
    "train_sequneces = tokenizer.texts_to_sequences(nouns_train)"
   ]
  },
  {
   "cell_type": "code",
   "execution_count": 47,
   "metadata": {},
   "outputs": [],
   "source": [
    "test_sequences = tokenizer.texts_to_sequences(nouns_test)"
   ]
  },
  {
   "cell_type": "code",
   "execution_count": 48,
   "metadata": {},
   "outputs": [],
   "source": [
    "word_vocab = tokenizer.word_index"
   ]
  },
  {
   "cell_type": "code",
   "execution_count": 49,
   "metadata": {},
   "outputs": [],
   "source": [
    "MAX_SEQUENCE_LENGTH = 30"
   ]
  },
  {
   "cell_type": "code",
   "execution_count": 50,
   "metadata": {},
   "outputs": [],
   "source": [
    "train_inputs = pad_sequences(train_sequneces,maxlen=MAX_SEQUENCE_LENGTH, padding='post')"
   ]
  },
  {
   "cell_type": "code",
   "execution_count": 51,
   "metadata": {},
   "outputs": [],
   "source": [
    "train_labels = np.array(train['Judgement'])"
   ]
  },
  {
   "cell_type": "code",
   "execution_count": 52,
   "metadata": {
    "collapsed": true
   },
   "outputs": [
    {
     "ename": "NameError",
     "evalue": "name 'test_sequences' is not defined",
     "output_type": "error",
     "traceback": [
      "\u001b[1;31m---------------------------------------------------------------------------\u001b[0m",
      "\u001b[1;31mNameError\u001b[0m                                 Traceback (most recent call last)",
      "\u001b[1;32m<ipython-input-52-792ed936ba74>\u001b[0m in \u001b[0;36m<module>\u001b[1;34m\u001b[0m\n\u001b[1;32m----> 1\u001b[1;33m \u001b[0mtest_inputs\u001b[0m \u001b[1;33m=\u001b[0m \u001b[0mpad_sequences\u001b[0m\u001b[1;33m(\u001b[0m\u001b[0mtest_sequences\u001b[0m\u001b[1;33m,\u001b[0m \u001b[0mmaxlen\u001b[0m\u001b[1;33m=\u001b[0m\u001b[0mMAX_SEQUENCE_LENGTH\u001b[0m\u001b[1;33m,\u001b[0m \u001b[0mpadding\u001b[0m\u001b[1;33m=\u001b[0m\u001b[1;34m'post'\u001b[0m\u001b[1;33m)\u001b[0m\u001b[1;33m\u001b[0m\u001b[1;33m\u001b[0m\u001b[0m\n\u001b[0m",
      "\u001b[1;31mNameError\u001b[0m: name 'test_sequences' is not defined"
     ]
    }
   ],
   "source": [
    "test_inputs = pad_sequences(test_sequences, maxlen=MAX_SEQUENCE_LENGTH, padding='post')"
   ]
  },
  {
   "cell_type": "code",
   "execution_count": null,
   "metadata": {},
   "outputs": [],
   "source": [
    "test_labels = np.array(test['Judgement'])"
   ]
  },
  {
   "cell_type": "code",
   "execution_count": null,
   "metadata": {},
   "outputs": [],
   "source": [
    "TRAIN_INPUT_DATA  = 'nsmc_train_input.npy'"
   ]
  },
  {
   "cell_type": "code",
   "execution_count": null,
   "metadata": {},
   "outputs": [],
   "source": [
    "TRAIN_LABEL_DATA = 'nsmc_train_label.npy'"
   ]
  },
  {
   "cell_type": "code",
   "execution_count": null,
   "metadata": {},
   "outputs": [],
   "source": [
    "TEST_INPUT_DATA = 'nsmc_test_input.npy'"
   ]
  },
  {
   "cell_type": "code",
   "execution_count": null,
   "metadata": {},
   "outputs": [],
   "source": [
    "TEST_LABEL_DATA = 'nsmc_test_label.npy'"
   ]
  },
  {
   "cell_type": "code",
   "execution_count": null,
   "metadata": {},
   "outputs": [],
   "source": [
    "DATA_CONFIGS = 'data_configs.json'"
   ]
  },
  {
   "cell_type": "code",
   "execution_count": null,
   "metadata": {},
   "outputs": [],
   "source": [
    "data_configs = {}"
   ]
  },
  {
   "cell_type": "code",
   "execution_count": null,
   "metadata": {},
   "outputs": [],
   "source": [
    "data_configs['vocab']=word_vocab"
   ]
  },
  {
   "cell_type": "code",
   "execution_count": null,
   "metadata": {},
   "outputs": [],
   "source": [
    "data_configs['vocab_size']= len(word_vocab)+1"
   ]
  },
  {
   "cell_type": "code",
   "execution_count": null,
   "metadata": {},
   "outputs": [],
   "source": [
    "DEFALUT_PATH = './data/numpy/'"
   ]
  },
  {
   "cell_type": "code",
   "execution_count": null,
   "metadata": {},
   "outputs": [],
   "source": [
    "if not os.path.exists(DEFALUT_PATH):\n",
    "    os.makedirs(DEFALUT_PATH)"
   ]
  },
  {
   "cell_type": "code",
   "execution_count": 54,
   "metadata": {},
   "outputs": [],
   "source": [
    "np.save(open(DEFALUT_PATH+TRAIN_INPUT_DATA , 'wb'), train_inputs)"
   ]
  },
  {
   "cell_type": "code",
   "execution_count": 55,
   "metadata": {},
   "outputs": [],
   "source": [
    "np.save(open(DEFALUT_PATH+TRAIN_LABEL_DATA , 'wb'), train_labels)"
   ]
  },
  {
   "cell_type": "code",
   "execution_count": 68,
   "metadata": {},
   "outputs": [],
   "source": [
    "np.save(open(DEFALUT_PATH+TEST_INPUT_DATA , 'wb'), test_inputs)"
   ]
  },
  {
   "cell_type": "code",
   "execution_count": 69,
   "metadata": {},
   "outputs": [],
   "source": [
    "np.save(open(DEFALUT_PATH+TEST_LABEL_DATA , 'wb'), test_labels)"
   ]
  },
  {
   "cell_type": "code",
   "execution_count": 93,
   "metadata": {},
   "outputs": [],
   "source": [
    "json.dump(data_configs, open(DEFALUT_PATH+ DATA_CONFIGS,'w'), ensure_ascii=False)"
   ]
  },
  {
   "cell_type": "code",
   "execution_count": 57,
   "metadata": {},
   "outputs": [],
   "source": [
    "train_input_data = np.load(open(DEFALUT_PATH + TRAIN_INPUT_DATA, 'rb'))"
   ]
  },
  {
   "cell_type": "code",
   "execution_count": 58,
   "metadata": {},
   "outputs": [],
   "source": [
    "train_label_data = np.load(open(DEFALUT_PATH + TRAIN_LABEL_DATA,'rb'))"
   ]
  },
  {
   "cell_type": "code",
   "execution_count": 59,
   "metadata": {},
   "outputs": [],
   "source": [
    "prepro_configs = json.load(open(DEFALUT_PATH + DATA_CONFIGS, 'r'))"
   ]
  },
  {
   "cell_type": "code",
   "execution_count": 191,
   "metadata": {},
   "outputs": [
    {
     "data": {
      "text/plain": [
       "35698"
      ]
     },
     "execution_count": 191,
     "metadata": {},
     "output_type": "execute_result"
    }
   ],
   "source": [
    "len(prepro_configs['vocab'])"
   ]
  },
  {
   "cell_type": "code",
   "execution_count": 60,
   "metadata": {},
   "outputs": [],
   "source": [
    "test_input_data = np.load(open(DEFALUT_PATH + TEST_INPUT_DATA, 'rb'))"
   ]
  },
  {
   "cell_type": "code",
   "execution_count": 61,
   "metadata": {},
   "outputs": [],
   "source": [
    "test_label_data = np.load(open(DEFALUT_PATH + TEST_LABEL_DATA, 'rb'))"
   ]
  },
  {
   "cell_type": "code",
   "execution_count": 62,
   "metadata": {},
   "outputs": [],
   "source": [
    "from gensim.models import KeyedVectors\n",
    "word_vectors = KeyedVectors.load('./Word2vec/word2vec_final.model')"
   ]
  },
  {
   "cell_type": "code",
   "execution_count": 63,
   "metadata": {},
   "outputs": [],
   "source": [
    "def get_average_word2vec(tokens_list, vector, generate_missing=False, k=100):\n",
    "    if len(tokens_list)<1:\n",
    "        return np.zeros(k)\n",
    "    if generate_missing:\n",
    "        vectorized = [vector[word] if word in vector else np.random.rand(k) for word in tokens_list]\n",
    "    else:\n",
    "        vectorized = [vector[word] if word in vector else np.zeros(k) for word in tokens_list]\n",
    "    length = len(vectorized)\n",
    "    summed = np.sum(vectorized, axis=0)\n",
    "    averaged = np.divide(summed, length)\n",
    "    return averaged\n",
    "\n",
    "def get_word2vec_embeddings(vectors, clean_comments, generate_missing=False):\n",
    "    embeddings = pd.Series(clean_comments).apply(lambda x: get_average_word2vec(x, vectors, \n",
    "                                                                                generate_missing=generate_missing))\n",
    "    return list(embeddings)"
   ]
  },
  {
   "cell_type": "code",
   "execution_count": 96,
   "metadata": {},
   "outputs": [
    {
     "name": "stderr",
     "output_type": "stream",
     "text": [
      "C:\\Users\\Jay\\anaconda3\\lib\\site-packages\\ipykernel_launcher.py:7: DeprecationWarning: Call to deprecated `__contains__` (Method will be removed in 4.0.0, use self.wv.__contains__() instead).\n",
      "  import sys\n",
      "C:\\Users\\Jay\\anaconda3\\lib\\site-packages\\ipykernel_launcher.py:7: DeprecationWarning: Call to deprecated `__getitem__` (Method will be removed in 4.0.0, use self.wv.__getitem__() instead).\n",
      "  import sys\n"
     ]
    }
   ],
   "source": [
    "training_embeddings  = get_word2vec_embeddings(word_vectors,nouns_train,False)"
   ]
  },
  {
   "cell_type": "code",
   "execution_count": 99,
   "metadata": {},
   "outputs": [],
   "source": [
    "train_embedding_weights = np.zeros((len(prepro_configs['vocab'])+1, 100))"
   ]
  },
  {
   "cell_type": "code",
   "execution_count": 101,
   "metadata": {},
   "outputs": [
    {
     "name": "stderr",
     "output_type": "stream",
     "text": [
      "C:\\Users\\Jay\\anaconda3\\lib\\site-packages\\ipykernel_launcher.py:2: DeprecationWarning: Call to deprecated `__contains__` (Method will be removed in 4.0.0, use self.wv.__contains__() instead).\n",
      "  \n",
      "C:\\Users\\Jay\\anaconda3\\lib\\site-packages\\ipykernel_launcher.py:2: DeprecationWarning: Call to deprecated `__getitem__` (Method will be removed in 4.0.0, use self.wv.__getitem__() instead).\n",
      "  \n"
     ]
    }
   ],
   "source": [
    "for word,index in prepro_configs['vocab'].items():\n",
    "    train_embedding_weights[index, :] = word_vectors[word] if word in word_vectors else np.random.rand(100)\n"
   ]
  },
  {
   "cell_type": "markdown",
   "metadata": {},
   "source": [
    "### HyperParameters "
   ]
  },
  {
   "cell_type": "code",
   "execution_count": 193,
   "metadata": {},
   "outputs": [],
   "source": [
    "EPOCHS=30\n",
    "BATCH_SIZE=100\n",
    "METRICS = [\n",
    "    keras.metrics.BinaryAccuracy(name='accuracy'),\n",
    "    keras.metrics.AUC(name='auc')\n",
    "]\n",
    "early_stopping = EarlyStopping(monitor='val_loss', min_delta=0.01, patience=4, verbose=1)\n",
    "callbacks_list = [early_stopping]"
   ]
  },
  {
   "cell_type": "markdown",
   "metadata": {},
   "source": [
    "### CNN "
   ]
  },
  {
   "cell_type": "code",
   "execution_count": 282,
   "metadata": {},
   "outputs": [],
   "source": [
    "embedding_layer = Embedding(len(prepro_configs['vocab'])+1,\n",
    "                          100,\n",
    "                          weights=[train_embedding_weights],\n",
    "                          input_length=30,\n",
    "                          trainable=False)"
   ]
  },
  {
   "cell_type": "code",
   "execution_count": 283,
   "metadata": {},
   "outputs": [],
   "source": [
    "sequence_input = Input(shape=(30,), dtype='int32')\n",
    "embedded_sequences = embedding_layer(sequence_input)"
   ]
  },
  {
   "cell_type": "code",
   "execution_count": 284,
   "metadata": {},
   "outputs": [],
   "source": [
    "convs = []\n",
    "filter_sizes = [3,4,5]\n",
    "\n",
    "for filter_size in filter_sizes:\n",
    "    l_conv = Conv1D(filters=128, kernel_size=filter_size, activation='relu')(embedded_sequences)\n",
    "    l_pool = MaxPooling1D(pool_size=3)(l_conv)\n",
    "    convs.append(l_pool)"
   ]
  },
  {
   "cell_type": "code",
   "execution_count": 285,
   "metadata": {},
   "outputs": [],
   "source": [
    "conv = Conv1D(filters=128, kernel_size=3, activation='relu')(embedded_sequences)\n",
    "pool = MaxPooling1D(pool_size=3)(conv)"
   ]
  },
  {
   "cell_type": "code",
   "execution_count": 288,
   "metadata": {},
   "outputs": [],
   "source": [
    "x = Dropout(0.5)(pool)"
   ]
  },
  {
   "cell_type": "code",
   "execution_count": 289,
   "metadata": {},
   "outputs": [],
   "source": [
    "x = Flatten()(x)\n",
    "x = Dense(128, activation='relu')(x)\n",
    "x = Dropout(0.5)(x)\n",
    "preds = Dense(1, activation='sigmoid')(x)"
   ]
  },
  {
   "cell_type": "code",
   "execution_count": 290,
   "metadata": {},
   "outputs": [],
   "source": [
    "model_CNN = Model(sequence_input, preds)"
   ]
  },
  {
   "cell_type": "code",
   "execution_count": 292,
   "metadata": {},
   "outputs": [],
   "source": [
    "model_CNN.compile(loss='binary_crossentropy',\n",
    "              optimizer='adam',\n",
    "              metrics=[METRICS])"
   ]
  },
  {
   "cell_type": "code",
   "execution_count": 293,
   "metadata": {},
   "outputs": [
    {
     "name": "stdout",
     "output_type": "stream",
     "text": [
      "Epoch 1/20\n",
      "2731/2731 [==============================] - 44s 16ms/step - loss: 0.1758 - accuracy: 0.9337 - auc: 0.9712 - val_loss: 0.1252 - val_accuracy: 0.9507 - val_auc: 0.9841\n",
      "Epoch 2/20\n",
      "2731/2731 [==============================] - 47s 17ms/step - loss: 0.1317 - accuracy: 0.9477 - auc: 0.9811 - val_loss: 0.1142 - val_accuracy: 0.9550 - val_auc: 0.9864\n",
      "Epoch 3/20\n",
      "2731/2731 [==============================] - 47s 17ms/step - loss: 0.1221 - accuracy: 0.9514 - auc: 0.9837 - val_loss: 0.1073 - val_accuracy: 0.9577 - val_auc: 0.9879\n",
      "Epoch 4/20\n",
      "2731/2731 [==============================] - 48s 18ms/step - loss: 0.1167 - accuracy: 0.9533 - auc: 0.9851 - val_loss: 0.1051 - val_accuracy: 0.9589 - val_auc: 0.9886\n",
      "Epoch 5/20\n",
      "2731/2731 [==============================] - 45s 17ms/step - loss: 0.1122 - accuracy: 0.9553 - auc: 0.9861 - val_loss: 0.1070 - val_accuracy: 0.9566 - val_auc: 0.9890\n",
      "Epoch 6/20\n",
      "2731/2731 [==============================] - 50s 18ms/step - loss: 0.1094 - accuracy: 0.9562 - auc: 0.9869 - val_loss: 0.1024 - val_accuracy: 0.9594 - val_auc: 0.9891\n",
      "Epoch 7/20\n",
      "2731/2731 [==============================] - 47s 17ms/step - loss: 0.1068 - accuracy: 0.9576 - auc: 0.9874 - val_loss: 0.1026 - val_accuracy: 0.9585 - val_auc: 0.9895\n",
      "Epoch 8/20\n",
      "2731/2731 [==============================] - 43s 16ms/step - loss: 0.1045 - accuracy: 0.9585 - auc: 0.9880 - val_loss: 0.1000 - val_accuracy: 0.9597 - val_auc: 0.9896\n",
      "Epoch 9/20\n",
      "2731/2731 [==============================] - 43s 16ms/step - loss: 0.1028 - accuracy: 0.9591 - auc: 0.9883 - val_loss: 0.1015 - val_accuracy: 0.9594 - val_auc: 0.9897\n",
      "Epoch 10/20\n",
      "2731/2731 [==============================] - 42s 15ms/step - loss: 0.1008 - accuracy: 0.9599 - auc: 0.9888 - val_loss: 0.1007 - val_accuracy: 0.9607 - val_auc: 0.9898\n",
      "Epoch 00010: early stopping\n"
     ]
    }
   ],
   "source": [
    "hist = model_CNN.fit(train_input_data, train_label_data, epochs=20, callbacks=callbacks_list, validation_split=0.4, shuffle=True, batch_size=BATCH_SIZE)"
   ]
  },
  {
   "cell_type": "code",
   "execution_count": 269,
   "metadata": {},
   "outputs": [
    {
     "name": "stdout",
     "output_type": "stream",
     "text": [
      "1581/1581 - 3s - loss: 0.1018 - accuracy: 0.9592 - auc: 0.9891\n"
     ]
    }
   ],
   "source": [
    "test_loss, test_acc,test_auc =model_CNN.evaluate(test_input_data,  test_label_data, verbose=2)"
   ]
  },
  {
   "cell_type": "code",
   "execution_count": 217,
   "metadata": {},
   "outputs": [
    {
     "data": {
      "image/png": "[encoded data removed]",
      "text/plain": [
       "<Figure size 432x288 with 1 Axes>"
      ]
     },
     "metadata": {
      "needs_background": "light"
     },
     "output_type": "display_data"
    }
   ],
   "source": [
    "plt.figure()\n",
    "plt.plot(hist.history['accuracy'], lw=2.0, color='b', label='train_accuracy')\n",
    "plt.plot(hist.history['auc'], lw=2.0, color='b', label='train_auc',linestyle='--')\n",
    "plt.plot(hist.history['val_accuracy'], lw=2.0, color='r', label='val_accuracy')\n",
    "plt.plot(hist.history['val_auc'], lw=2.0, color='r', label='val_auc',linestyle='--')\n",
    "plt.xlabel('Epochs')\n",
    "plt.title('Accuracy & AUC about CNN')\n",
    "plt.legend()\n",
    "plt.show()"
   ]
  },
  {
   "cell_type": "code",
   "execution_count": 195,
   "metadata": {},
   "outputs": [
    {
     "data": {
      "image/png": "[encoded data removed]",
      "text/plain": [
       "<Figure size 432x288 with 1 Axes>"
      ]
     },
     "metadata": {
      "needs_background": "light"
     },
     "output_type": "display_data"
    }
   ],
   "source": [
    "plt.figure()\n",
    "plt.plot(hist.history['loss'], lw=2.0, color='b', label='train_loss')\n",
    "plt.plot(hist.history['val_loss'], lw=2.0, color='r', label='val_loss')\n",
    "plt.xlabel('Epochs')\n",
    "plt.title('Loss about CNN')\n",
    "plt.legend()\n",
    "plt.show()"
   ]
  },
  {
   "cell_type": "markdown",
   "metadata": {},
   "source": [
    "###  LSTM"
   ]
  },
  {
   "cell_type": "code",
   "execution_count": 137,
   "metadata": {},
   "outputs": [],
   "source": [
    "model_LSTM = Sequential()\n",
    "model_LSTM.add(Embedding(len(word_vocab)+1,100,weights=[train_embedding_weights],input_length=30,trainable=False))\n",
    "model_LSTM.add(Dropout(0.2))\n",
    "model_LSTM.add(LSTM(30))\n",
    "model_LSTM.add(Dense(10, activation='relu'))\n",
    "model_LSTM.add(Dense(1, activation='sigmoid'))\n",
    "model_LSTM.compile(loss='binary_crossentropy', optimizer='adam', metrics=[METRICS])\n",
    "## Fit train data\n",
    "hist_lstm  = model_LSTM.fit(train_input_data, train_label_data, validation_split=0.4, callbacks=callbacks_list, epochs = EPOCHS,shuffle=True, batch_size=BATCH_SIZE)"
   ]
  },
  {
   "cell_type": "code",
   "execution_count": 138,
   "metadata": {},
   "outputs": [
    {
     "name": "stdout",
     "output_type": "stream",
     "text": [
      "Model: \"sequential_7\"\n",
      "_________________________________________________________________\n",
      "Layer (type)                 Output Shape              Param #   \n",
      "=================================================================\n",
      "embedding_10 (Embedding)     (None, 30, 100)           3569900   \n",
      "_________________________________________________________________\n",
      "dropout_11 (Dropout)         (None, 30, 100)           0         \n",
      "_________________________________________________________________\n",
      "lstm_2 (LSTM)                (None, 30)                15720     \n",
      "_________________________________________________________________\n",
      "dense_18 (Dense)             (None, 10)                310       \n",
      "_________________________________________________________________\n",
      "dense_19 (Dense)             (None, 1)                 11        \n",
      "=================================================================\n",
      "Total params: 3,585,941\n",
      "Trainable params: 16,041\n",
      "Non-trainable params: 3,569,900\n",
      "_________________________________________________________________\n"
     ]
    }
   ],
   "source": [
    "model_LSTM.summary()"
   ]
  },
  {
   "cell_type": "code",
   "execution_count": 123,
   "metadata": {},
   "outputs": [],
   "source": [
    "embedding_layer = Embedding(len(prepro_configs['vocab'])+1,\n",
    "                          100,\n",
    "                          weights=[train_embedding_weights],\n",
    "                          input_length=30,\n",
    "                          trainable=False)"
   ]
  },
  {
   "cell_type": "code",
   "execution_count": 128,
   "metadata": {},
   "outputs": [
    {
     "name": "stdout",
     "output_type": "stream",
     "text": [
      "1581/1581 - 4s - loss: 0.1088 - accuracy: 0.9606 - auc: 0.9896\n"
     ]
    }
   ],
   "source": [
    "test_loss, test_acc,test_auc = model_LSTM.evaluate(test_input_data,  test_label_data, verbose=2)"
   ]
  },
  {
   "cell_type": "code",
   "execution_count": 216,
   "metadata": {},
   "outputs": [
    {
     "data": {
      "image/png": "[encoded data removed]",
      "text/plain": [
       "<Figure size 432x288 with 1 Axes>"
      ]
     },
     "metadata": {
      "needs_background": "light"
     },
     "output_type": "display_data"
    }
   ],
   "source": [
    "plt.figure()\n",
    "plt.plot(hist_lstm.history['accuracy'], lw=2.0, color='b', label='train_accuracy')\n",
    "plt.plot(hist_lstm.history['auc'], lw=2.0, color='b', label='train_auc',linestyle='--')\n",
    "plt.plot(hist_lstm.history['val_accuracy'], lw=2.0, color='r', label='val_accuracy')\n",
    "plt.plot(hist_lstm.history['val_auc'], lw=2.0, color='r', label='val_auc',linestyle='--')\n",
    "plt.xlabel('Epochs')\n",
    "plt.title('Accuracy & AUC about LSTM')\n",
    "plt.legend()\n",
    "plt.show()"
   ]
  },
  {
   "cell_type": "code",
   "execution_count": 197,
   "metadata": {},
   "outputs": [
    {
     "data": {
      "image/png": "[encoded data removed]",
      "text/plain": [
       "<Figure size 432x288 with 1 Axes>"
      ]
     },
     "metadata": {
      "needs_background": "light"
     },
     "output_type": "display_data"
    }
   ],
   "source": [
    "plt.figure()\n",
    "plt.plot(hist_lstm.history['loss'], lw=2.0, color='b', label='train_loss')\n",
    "plt.plot(hist_lstm.history['val_loss'], lw=2.0, color='r', label='val_loss')\n",
    "plt.xlabel('Epochs')\n",
    "plt.title('Loss about LSTM')\n",
    "plt.legend()\n",
    "plt.show()"
   ]
  },
  {
   "cell_type": "markdown",
   "metadata": {},
   "source": [
    "###  GRU"
   ]
  },
  {
   "cell_type": "code",
   "execution_count": 139,
   "metadata": {},
   "outputs": [
    {
     "name": "stdout",
     "output_type": "stream",
     "text": [
      "Epoch 1/30\n",
      "2731/2731 [==============================] - 47s 17ms/step - loss: 0.2131 - accuracy: 0.9209 - auc: 0.9594 - val_loss: 0.1391 - val_accuracy: 0.9446 - val_auc: 0.9811\n",
      "Epoch 2/30\n",
      "2731/2731 [==============================] - 46s 17ms/step - loss: 0.1603 - accuracy: 0.9334 - auc: 0.9725 - val_loss: 0.1353 - val_accuracy: 0.9505 - val_auc: 0.9852\n",
      "Epoch 3/30\n",
      "2731/2731 [==============================] - 46s 17ms/step - loss: 0.1498 - accuracy: 0.9383 - auc: 0.9759 - val_loss: 0.1196 - val_accuracy: 0.9519 - val_auc: 0.9856\n",
      "Epoch 4/30\n",
      "2731/2731 [==============================] - 48s 18ms/step - loss: 0.1424 - accuracy: 0.9410 - auc: 0.9783 - val_loss: 0.1211 - val_accuracy: 0.9535 - val_auc: 0.9869\n",
      "Epoch 5/30\n",
      "2731/2731 [==============================] - 47s 17ms/step - loss: 0.1373 - accuracy: 0.9433 - auc: 0.9798 - val_loss: 0.1246 - val_accuracy: 0.9491 - val_auc: 0.9877\n",
      "Epoch 6/30\n",
      "2731/2731 [==============================] - 50s 18ms/step - loss: 0.1342 - accuracy: 0.9446 - auc: 0.9806 - val_loss: 0.1115 - val_accuracy: 0.9564 - val_auc: 0.9880\n",
      "Epoch 7/30\n",
      "2731/2731 [==============================] - 46s 17ms/step - loss: 0.1317 - accuracy: 0.9455 - auc: 0.9813 - val_loss: 0.1103 - val_accuracy: 0.9565 - val_auc: 0.9887\n",
      "Epoch 00007: early stopping\n"
     ]
    }
   ],
   "source": [
    "model_GRU = Sequential()\n",
    "model_GRU.add(Embedding(len(prepro_configs['vocab'])+1,100,weights=[train_embedding_weights],input_length=30,trainable=False))\n",
    "model_GRU.add(Dropout(0.2))\n",
    "model_GRU.add(GRU(30))\n",
    "model_GRU.add(Dense(10,activation='relu'))\n",
    "model_GRU.add(Dense(1, activation='sigmoid'))\n",
    "model_GRU.compile(loss='binary_crossentropy', optimizer='adam', metrics=[METRICS])\n",
    "## Fit train data\n",
    "hist_gru = model_GRU.fit(train_input_data, train_label_data, validation_split=0.4, epochs = EPOCHS,shuffle=True, batch_size=BATCH_SIZE,callbacks=callbacks_list)"
   ]
  },
  {
   "cell_type": "code",
   "execution_count": 221,
   "metadata": {},
   "outputs": [
    {
     "data": {
      "image/png": "[encoded data removed]",
      "text/plain": [
       "<Figure size 432x288 with 1 Axes>"
      ]
     },
     "metadata": {
      "needs_background": "light"
     },
     "output_type": "display_data"
    }
   ],
   "source": [
    "plt.figure()\n",
    "plt.plot(hist_gru.history['accuracy'], lw=2.0, color='b', label='train_accuracy')\n",
    "plt.plot(hist_gru.history['auc'], lw=2.0, color='b', label='train_auc',linestyle='--')\n",
    "plt.plot(hist_gru.history['val_accuracy'], lw=2.0, color='r', label='val')\n",
    "plt.plot(hist_gru.history['val_auc'], lw=2.0, color='r', label='val_auc',linestyle='--')\n",
    "plt.title('Accuracy & AUC about GRU')\n",
    "plt.xlabel('Epochs')\n",
    "plt.ylabel('Accuracy')\n",
    "plt.legend()\n",
    "plt.show()"
   ]
  },
  {
   "cell_type": "code",
   "execution_count": 220,
   "metadata": {},
   "outputs": [
    {
     "data": {
      "image/png": "[encoded data removed]",
      "text/plain": [
       "<Figure size 432x288 with 1 Axes>"
      ]
     },
     "metadata": {
      "needs_background": "light"
     },
     "output_type": "display_data"
    }
   ],
   "source": [
    "plt.figure()\n",
    "plt.plot(hist_gru.history['loss'], lw=2.0, color='b', label='train')\n",
    "plt.plot(hist_gru.history['val_loss'], lw=2.0, color='r', label='val')\n",
    "plt.title('Loss about GRU')\n",
    "plt.xlabel('Epochs')\n",
    "plt.ylabel('loss')\n",
    "plt.legend()\n",
    "plt.show()"
   ]
  },
  {
   "cell_type": "code",
   "execution_count": 144,
   "metadata": {},
   "outputs": [
    {
     "name": "stdout",
     "output_type": "stream",
     "text": [
      "1581/1581 - 4s - loss: 0.1094 - accuracy: 0.9571 - auc: 0.9887\n"
     ]
    }
   ],
   "source": [
    "(test_loss,test_accuracy,test_auc )= model_GRU.evaluate(test_input_data,  test_label_data, verbose=2)"
   ]
  }
 ],
 "metadata": {
  "kernelspec": {
   "display_name": "Python 3",
   "language": "python",
   "name": "python3"
  },
  "language_info": {
   "codemirror_mode": {
    "name": "ipython",
    "version": 3
   },
   "file_extension": ".py",
   "mimetype": "text/x-python",
   "name": "python",
   "nbconvert_exporter": "python",
   "pygments_lexer": "ipython3",
   "version": "3.7.6"
  }
 },
 "nbformat": 4,
 "nbformat_minor": 4
}
